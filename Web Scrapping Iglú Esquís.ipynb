{
 "cells": [
  {
   "cell_type": "markdown",
   "id": "16b06ff7",
   "metadata": {},
   "source": [
    "# Web Scrapping - IGLÚ SHOP"
   ]
  },
  {
   "cell_type": "markdown",
   "id": "db010d6b",
   "metadata": {},
   "source": [
    "![image.png](https://images7.alphacoders.com/324/324002.jpg)"
   ]
  },
  {
   "cell_type": "markdown",
   "id": "de4a6774",
   "metadata": {},
   "source": [
    "Empezamos importando las librerias necesarias."
   ]
  },
  {
   "cell_type": "code",
   "execution_count": 2,
   "id": "556420bd",
   "metadata": {},
   "outputs": [],
   "source": [
    "import requests\n",
    "from bs4 import BeautifulSoup\n",
    "import pandas as pd\n",
    "import regex as re"
   ]
  },
  {
   "cell_type": "code",
   "execution_count": 3,
   "id": "7a83c97f",
   "metadata": {},
   "outputs": [],
   "source": [
    "url_esqui = \"https://www.iglushop.es/esqui/esquis-hombre?product_list_limit=96\""
   ]
  },
  {
   "cell_type": "code",
   "execution_count": 4,
   "id": "da5452f1",
   "metadata": {},
   "outputs": [],
   "source": [
    "html = requests.get(url_esqui)"
   ]
  },
  {
   "cell_type": "code",
   "execution_count": 5,
   "id": "4773c5f7",
   "metadata": {},
   "outputs": [
    {
     "data": {
      "text/plain": [
       "<Response [200]>"
      ]
     },
     "execution_count": 5,
     "metadata": {},
     "output_type": "execute_result"
    }
   ],
   "source": [
    "html"
   ]
  },
  {
   "cell_type": "code",
   "execution_count": 6,
   "id": "8d5d5a44",
   "metadata": {},
   "outputs": [],
   "source": [
    "soup = BeautifulSoup(html.content, \"html.parser\")"
   ]
  },
  {
   "cell_type": "markdown",
   "id": "a95045e5",
   "metadata": {},
   "source": [
    "Saca una lista de productos de la URL"
   ]
  },
  {
   "cell_type": "code",
   "execution_count": 7,
   "id": "8c31a17c",
   "metadata": {},
   "outputs": [],
   "source": [
    "productos = soup.findAll(\"strong\",{\"class\": \"product name product-item-name\"}) "
   ]
  },
  {
   "cell_type": "code",
   "execution_count": 8,
   "id": "a2e6f8e3",
   "metadata": {},
   "outputs": [
    {
     "data": {
      "text/plain": [
       "'Hagan Ride 83 + Pieles'"
      ]
     },
     "execution_count": 8,
     "metadata": {},
     "output_type": "execute_result"
    }
   ],
   "source": [
    "#Limpiamos y cogemos solo el texto; el nombre del producto. Vemos como se veria\n",
    "productos[0].getText().strip() "
   ]
  },
  {
   "cell_type": "code",
   "execution_count": 9,
   "id": "700ca252",
   "metadata": {},
   "outputs": [],
   "source": [
    "#Hacemos lo mismo para todos los productos\n",
    "lista_productos = [a.getText().strip() for a in productos]  "
   ]
  },
  {
   "cell_type": "markdown",
   "id": "901c8ee9",
   "metadata": {},
   "source": [
    "Sacamos el nombre de la marca a una lista aparte, para tener mayor acceso en el DF:"
   ]
  },
  {
   "cell_type": "code",
   "execution_count": 10,
   "id": "0aabbc51",
   "metadata": {},
   "outputs": [],
   "source": [
    "#En este caso, la primera palabra era el nombre de la marca, por lo que lo sacamos en una nueva lista.\n",
    "lista_marcas = [i.split()[0] for i in lista_productos]"
   ]
  },
  {
   "cell_type": "markdown",
   "id": "e52db45f",
   "metadata": {},
   "source": [
    "Saca la lista de precios nuevos:"
   ]
  },
  {
   "cell_type": "code",
   "execution_count": 11,
   "id": "e9dfe4f7",
   "metadata": {},
   "outputs": [],
   "source": [
    "precios_nuevos = soup.findAll(\"span\", {\"class\": \"special-price\"})"
   ]
  },
  {
   "cell_type": "code",
   "execution_count": 12,
   "id": "ece80903",
   "metadata": {},
   "outputs": [
    {
     "data": {
      "text/plain": [
       "'397,00\\xa0€'"
      ]
     },
     "execution_count": 12,
     "metadata": {},
     "output_type": "execute_result"
    }
   ],
   "source": [
    "precios_nuevos[0].getText().strip()"
   ]
  },
  {
   "cell_type": "code",
   "execution_count": 13,
   "id": "6383f155",
   "metadata": {},
   "outputs": [
    {
     "data": {
      "text/plain": [
       "'510,00\\xa0€'"
      ]
     },
     "execution_count": 13,
     "metadata": {},
     "output_type": "execute_result"
    }
   ],
   "source": [
    "precios_nuevos[2].getText().strip()"
   ]
  },
  {
   "cell_type": "code",
   "execution_count": 14,
   "id": "3e252c34",
   "metadata": {},
   "outputs": [
    {
     "data": {
      "text/plain": [
       "<span class=\"special-price\">\n",
       "<span class=\"price-container price-final_price tax weee\">\n",
       "<span class=\"price-wrapper\" data-price-amount=\"397\" data-price-type=\"finalPrice\" id=\"product-price-14499\"><span class=\"price\">397,00 €</span></span>\n",
       "</span>\n",
       "</span>"
      ]
     },
     "execution_count": 14,
     "metadata": {},
     "output_type": "execute_result"
    }
   ],
   "source": [
    "precios_nuevos[0]"
   ]
  },
  {
   "cell_type": "code",
   "execution_count": 15,
   "id": "a6b7c3eb",
   "metadata": {},
   "outputs": [],
   "source": [
    "#Dejo limpio los precios, sin espacios \\n ni \\xa0, ni símbolo de €:"
   ]
  },
  {
   "cell_type": "code",
   "execution_count": 16,
   "id": "d47e4697",
   "metadata": {},
   "outputs": [],
   "source": [
    "lista_precios_nuevos = [precio.getText().strip() for precio in precios_nuevos]"
   ]
  },
  {
   "cell_type": "code",
   "execution_count": 17,
   "id": "b42cf774",
   "metadata": {},
   "outputs": [],
   "source": [
    "lista_precios_nuevos = [el.replace(u'€','') for el in lista_precios_nuevos]  #quito los € \n",
    "lista_precios_nuevos = [el.replace(',','.') for el in lista_precios_nuevos]  #cambio las , por .\n",
    "lista_precios_nuevos = [el.replace('\\xa0','') for el in lista_precios_nuevos] #quito los \\xa0 "
   ]
  },
  {
   "cell_type": "markdown",
   "id": "3a8dc99c",
   "metadata": {},
   "source": [
    "Y también sacamos la lista de los precios antiguos:"
   ]
  },
  {
   "cell_type": "code",
   "execution_count": 18,
   "id": "d0f09a0f",
   "metadata": {},
   "outputs": [],
   "source": [
    "precios_antiguos = soup.findAll(\"span\", {\"class\": \"old-price sly-old-price\"})"
   ]
  },
  {
   "cell_type": "code",
   "execution_count": 19,
   "id": "a1ff1c20",
   "metadata": {},
   "outputs": [
    {
     "data": {
      "text/plain": [
       "'609,95\\xa0€'"
      ]
     },
     "execution_count": 19,
     "metadata": {},
     "output_type": "execute_result"
    }
   ],
   "source": [
    "precios_antiguos[0].getText().strip()"
   ]
  },
  {
   "cell_type": "code",
   "execution_count": 20,
   "id": "b1c0bc18",
   "metadata": {},
   "outputs": [
    {
     "data": {
      "text/plain": [
       "'729,95\\xa0€'"
      ]
     },
     "execution_count": 20,
     "metadata": {},
     "output_type": "execute_result"
    }
   ],
   "source": [
    "precios_antiguos[2].getText().strip()"
   ]
  },
  {
   "cell_type": "code",
   "execution_count": 21,
   "id": "49e12e54",
   "metadata": {},
   "outputs": [
    {
     "data": {
      "text/plain": [
       "<span class=\"old-price sly-old-price\">\n",
       "<span class=\"price-container price-final_price tax weee\">\n",
       "<span class=\"price-wrapper\" data-price-amount=\"609.95\" data-price-type=\"oldPrice\" id=\"old-price-14499\"><span class=\"price\">609,95 €</span></span>\n",
       "</span>\n",
       "</span>"
      ]
     },
     "execution_count": 21,
     "metadata": {},
     "output_type": "execute_result"
    }
   ],
   "source": [
    "precios_antiguos[0]"
   ]
  },
  {
   "cell_type": "code",
   "execution_count": 22,
   "id": "e37bff86",
   "metadata": {},
   "outputs": [],
   "source": [
    "#Y vuelvo a limpiar los precios, sin espacios ni símbolo de €:"
   ]
  },
  {
   "cell_type": "code",
   "execution_count": 23,
   "id": "b293a300",
   "metadata": {},
   "outputs": [],
   "source": [
    "lista_precios_antiguos = [precio.getText().strip() for precio in precios_antiguos]"
   ]
  },
  {
   "cell_type": "code",
   "execution_count": 24,
   "id": "7f41a107",
   "metadata": {},
   "outputs": [],
   "source": [
    "lista_precios_antiguos = [el.replace(u'€','') for el in lista_precios_antiguos]    \n",
    "lista_precios_antiguos = [el.replace(',','.') for el in lista_precios_antiguos]   \n",
    "lista_precios_antiguos = [el.replace('\\xa0','') for el in lista_precios_antiguos]"
   ]
  },
  {
   "cell_type": "markdown",
   "id": "388fcd78",
   "metadata": {},
   "source": [
    "Sacamos una lista de enlaces"
   ]
  },
  {
   "cell_type": "code",
   "execution_count": 25,
   "id": "228d12fc",
   "metadata": {
    "scrolled": true
   },
   "outputs": [],
   "source": [
    "enlaces = soup.select(\"a.product-item-link\")"
   ]
  },
  {
   "cell_type": "code",
   "execution_count": 26,
   "id": "c7d5bfec",
   "metadata": {},
   "outputs": [
    {
     "data": {
      "text/plain": [
       "['product-item-link']"
      ]
     },
     "execution_count": 26,
     "metadata": {},
     "output_type": "execute_result"
    }
   ],
   "source": [
    "enlaces[0].get(\"class\")"
   ]
  },
  {
   "cell_type": "code",
   "execution_count": 27,
   "id": "c43273ae",
   "metadata": {},
   "outputs": [],
   "source": [
    "enlaces = soup.find_all(\"a\", {\"class\":\"product-item-link\"})"
   ]
  },
  {
   "cell_type": "code",
   "execution_count": 28,
   "id": "e94699ac",
   "metadata": {},
   "outputs": [],
   "source": [
    "links = []\n",
    "for link in soup.find_all(\"a\", {\"class\":\"product-item-link\"}):\n",
    "    links.append(link.get('href'))\n",
    "#me salen duplicados ya que hay más de una forma de acceder al enlace, por lo que\n",
    "#elimino los duplicados\n",
    "links_sin_duplicados = list(dict.fromkeys(links))"
   ]
  },
  {
   "cell_type": "markdown",
   "id": "5dcb100d",
   "metadata": {},
   "source": [
    "Creo un dataframe con las columnas: nombre, precio y enlace"
   ]
  },
  {
   "cell_type": "code",
   "execution_count": 29,
   "id": "9bd52bf4",
   "metadata": {},
   "outputs": [
    {
     "name": "stdout",
     "output_type": "stream",
     "text": [
      "85 85 84 84 85\n"
     ]
    }
   ],
   "source": [
    "print(len(lista_productos), len(lista_marcas), len(lista_precios_nuevos), len(lista_precios_antiguos), len(links_sin_duplicados))"
   ]
  },
  {
   "cell_type": "markdown",
   "id": "0ded11b4",
   "metadata": {},
   "source": [
    "Quitamos el primer esquí, pues todos los demás nos ponen el precio anterior y el nuevo, menos el primero:"
   ]
  },
  {
   "cell_type": "code",
   "execution_count": 30,
   "id": "7663e155",
   "metadata": {},
   "outputs": [
    {
     "data": {
      "text/plain": [
       "'https://www.iglushop.es/hagan-ride-83-pieles'"
      ]
     },
     "execution_count": 30,
     "metadata": {},
     "output_type": "execute_result"
    }
   ],
   "source": [
    "lista_productos.pop(0)\n",
    "lista_marcas.pop(0)\n",
    "links_sin_duplicados.pop(0)"
   ]
  },
  {
   "cell_type": "markdown",
   "id": "36a8a757",
   "metadata": {},
   "source": [
    "Y ya podemos construir el diccionario y posteriormente el DF con los otros 84 esquís de la página:"
   ]
  },
  {
   "cell_type": "code",
   "execution_count": 31,
   "id": "af934625",
   "metadata": {},
   "outputs": [],
   "source": [
    "diccionario = {'Producto': lista_productos, 'Marca': lista_marcas, 'Precio_Antiguo': lista_precios_antiguos, 'Precio_Nuevo': lista_precios_nuevos, 'Enlace': links_sin_duplicados}"
   ]
  },
  {
   "cell_type": "code",
   "execution_count": 32,
   "id": "8e5ed13c",
   "metadata": {},
   "outputs": [],
   "source": [
    "data = pd.DataFrame(diccionario)"
   ]
  },
  {
   "cell_type": "code",
   "execution_count": 33,
   "id": "307ed897",
   "metadata": {},
   "outputs": [
    {
     "data": {
      "text/html": [
       "<div>\n",
       "<style scoped>\n",
       "    .dataframe tbody tr th:only-of-type {\n",
       "        vertical-align: middle;\n",
       "    }\n",
       "\n",
       "    .dataframe tbody tr th {\n",
       "        vertical-align: top;\n",
       "    }\n",
       "\n",
       "    .dataframe thead th {\n",
       "        text-align: right;\n",
       "    }\n",
       "</style>\n",
       "<table border=\"1\" class=\"dataframe\">\n",
       "  <thead>\n",
       "    <tr style=\"text-align: right;\">\n",
       "      <th></th>\n",
       "      <th>Producto</th>\n",
       "      <th>Marca</th>\n",
       "      <th>Precio_Antiguo</th>\n",
       "      <th>Precio_Nuevo</th>\n",
       "      <th>Enlace</th>\n",
       "    </tr>\n",
       "  </thead>\n",
       "  <tbody>\n",
       "    <tr>\n",
       "      <th>0</th>\n",
       "      <td>Dynafit Speedfit 84</td>\n",
       "      <td>Dynafit</td>\n",
       "      <td>609.95</td>\n",
       "      <td>397.00</td>\n",
       "      <td>https://www.iglushop.es/dynafit-speedfit-84</td>\n",
       "    </tr>\n",
       "    <tr>\n",
       "      <th>1</th>\n",
       "      <td>Hagan Core 84 + Pieles</td>\n",
       "      <td>Hagan</td>\n",
       "      <td>500.00</td>\n",
       "      <td>349.00</td>\n",
       "      <td>https://www.iglushop.es/hagan-core-84-pieles</td>\n",
       "    </tr>\n",
       "    <tr>\n",
       "      <th>2</th>\n",
       "      <td>Salomon MTN BC</td>\n",
       "      <td>Salomon</td>\n",
       "      <td>729.95</td>\n",
       "      <td>510.00</td>\n",
       "      <td>https://www.iglushop.es/salomon-mtn-bc</td>\n",
       "    </tr>\n",
       "    <tr>\n",
       "      <th>3</th>\n",
       "      <td>Salomon Stance 102</td>\n",
       "      <td>Salomon</td>\n",
       "      <td>699.95</td>\n",
       "      <td>319.95</td>\n",
       "      <td>https://www.iglushop.es/salomon-stance-102</td>\n",
       "    </tr>\n",
       "    <tr>\n",
       "      <th>4</th>\n",
       "      <td>Atomic Redster S7+F12 GW</td>\n",
       "      <td>Atomic</td>\n",
       "      <td>749.95</td>\n",
       "      <td>529.95</td>\n",
       "      <td>https://www.iglushop.es/atomic-redster-s7-f12-...</td>\n",
       "    </tr>\n",
       "  </tbody>\n",
       "</table>\n",
       "</div>"
      ],
      "text/plain": [
       "                   Producto    Marca Precio_Antiguo Precio_Nuevo  \\\n",
       "0       Dynafit Speedfit 84  Dynafit         609.95       397.00   \n",
       "1    Hagan Core 84 + Pieles    Hagan         500.00       349.00   \n",
       "2            Salomon MTN BC  Salomon         729.95       510.00   \n",
       "3        Salomon Stance 102  Salomon         699.95       319.95   \n",
       "4  Atomic Redster S7+F12 GW   Atomic         749.95       529.95   \n",
       "\n",
       "                                              Enlace  \n",
       "0        https://www.iglushop.es/dynafit-speedfit-84  \n",
       "1       https://www.iglushop.es/hagan-core-84-pieles  \n",
       "2             https://www.iglushop.es/salomon-mtn-bc  \n",
       "3         https://www.iglushop.es/salomon-stance-102  \n",
       "4  https://www.iglushop.es/atomic-redster-s7-f12-...  "
      ]
     },
     "execution_count": 33,
     "metadata": {},
     "output_type": "execute_result"
    }
   ],
   "source": [
    "data.head()"
   ]
  },
  {
   "cell_type": "markdown",
   "id": "18ddda77",
   "metadata": {},
   "source": [
    "Para obtener info de un producto en concreto:"
   ]
  },
  {
   "cell_type": "code",
   "execution_count": 34,
   "id": "dad66171",
   "metadata": {},
   "outputs": [],
   "source": [
    "producto_concreto = requests.get(\"https://www.iglushop.es/salomon-s-race-rush-isl-n-x12-tl-408826\")"
   ]
  },
  {
   "cell_type": "code",
   "execution_count": 35,
   "id": "b5894fbc",
   "metadata": {},
   "outputs": [],
   "source": [
    "soup_prod = BeautifulSoup(producto_concreto.content, \"html.parser\")"
   ]
  },
  {
   "cell_type": "code",
   "execution_count": 36,
   "id": "42b10e1a",
   "metadata": {},
   "outputs": [],
   "source": [
    "textaco = soup_prod.findAll(\"div\", {\"class\":\"product attribute description\"})"
   ]
  },
  {
   "cell_type": "code",
   "execution_count": 37,
   "id": "a2353a89",
   "metadata": {},
   "outputs": [
    {
     "data": {
      "text/plain": [
       "'Tanto si lo tuyo es lanzarte a toda velocidad por hielo duro o por pistas perfectas, este auténtico cohete de altas prestaciones para pista te transporte a la perfección en sus cantos para que puedas atacar tus giros más cortos. Desde carreras de fin de semana hasta trazar arcos cerrados sobre la nieve nuevecita de la mañana, este juego de esquís de alto rendimiento te ayuda a superar tus límites a la vez que consigues el giro perfecto que buscabas.'"
      ]
     },
     "execution_count": 37,
     "metadata": {},
     "output_type": "execute_result"
    }
   ],
   "source": [
    "textaco[0].getText().strip()"
   ]
  },
  {
   "cell_type": "markdown",
   "id": "0011b31e",
   "metadata": {},
   "source": [
    "Creo una columna con la descripción de cada producto:"
   ]
  },
  {
   "cell_type": "code",
   "execution_count": 38,
   "id": "1690597f",
   "metadata": {},
   "outputs": [],
   "source": [
    "def funcion_descrip(enlace):\n",
    "    res = requests.get(enlace)\n",
    "    soup = BeautifulSoup(res.content, \"html.parser\")\n",
    "    descripcion = soup.findAll(\"div\", {\"class\":\"product attribute description\"})\n",
    "    return descripcion[0].getText().strip()"
   ]
  },
  {
   "cell_type": "code",
   "execution_count": 39,
   "id": "6150d2a2",
   "metadata": {},
   "outputs": [],
   "source": [
    "data['Descripción'] = data.Enlace.apply(funcion_descrip)"
   ]
  },
  {
   "cell_type": "code",
   "execution_count": 40,
   "id": "e079ab1a",
   "metadata": {
    "scrolled": true
   },
   "outputs": [
    {
     "data": {
      "text/html": [
       "<div>\n",
       "<style scoped>\n",
       "    .dataframe tbody tr th:only-of-type {\n",
       "        vertical-align: middle;\n",
       "    }\n",
       "\n",
       "    .dataframe tbody tr th {\n",
       "        vertical-align: top;\n",
       "    }\n",
       "\n",
       "    .dataframe thead th {\n",
       "        text-align: right;\n",
       "    }\n",
       "</style>\n",
       "<table border=\"1\" class=\"dataframe\">\n",
       "  <thead>\n",
       "    <tr style=\"text-align: right;\">\n",
       "      <th></th>\n",
       "      <th>Producto</th>\n",
       "      <th>Marca</th>\n",
       "      <th>Precio_Antiguo</th>\n",
       "      <th>Precio_Nuevo</th>\n",
       "      <th>Enlace</th>\n",
       "      <th>Descripción</th>\n",
       "    </tr>\n",
       "  </thead>\n",
       "  <tbody>\n",
       "    <tr>\n",
       "      <th>0</th>\n",
       "      <td>Dynafit Speedfit 84</td>\n",
       "      <td>Dynafit</td>\n",
       "      <td>609.95</td>\n",
       "      <td>397.00</td>\n",
       "      <td>https://www.iglushop.es/dynafit-speedfit-84</td>\n",
       "      <td>El DYNAFIT Speedfit 84 es un esquí sin complic...</td>\n",
       "    </tr>\n",
       "    <tr>\n",
       "      <th>1</th>\n",
       "      <td>Hagan Core 84 + Pieles</td>\n",
       "      <td>Hagan</td>\n",
       "      <td>500.00</td>\n",
       "      <td>349.00</td>\n",
       "      <td>https://www.iglushop.es/hagan-core-84-pieles</td>\n",
       "      <td>Arranca toda la montaña con la serie CORE, con...</td>\n",
       "    </tr>\n",
       "    <tr>\n",
       "      <th>2</th>\n",
       "      <td>Salomon MTN BC</td>\n",
       "      <td>Salomon</td>\n",
       "      <td>729.95</td>\n",
       "      <td>510.00</td>\n",
       "      <td>https://www.iglushop.es/salomon-mtn-bc</td>\n",
       "      <td>Llega a la cima más rápido, carga el descenso ...</td>\n",
       "    </tr>\n",
       "    <tr>\n",
       "      <th>3</th>\n",
       "      <td>Salomon Stance 102</td>\n",
       "      <td>Salomon</td>\n",
       "      <td>699.95</td>\n",
       "      <td>319.95</td>\n",
       "      <td>https://www.iglushop.es/salomon-stance-102</td>\n",
       "      <td>Esquís de freestyle Salomon Stance 102.\\nCon u...</td>\n",
       "    </tr>\n",
       "    <tr>\n",
       "      <th>4</th>\n",
       "      <td>Atomic Redster S7+F12 GW</td>\n",
       "      <td>Atomic</td>\n",
       "      <td>749.95</td>\n",
       "      <td>529.95</td>\n",
       "      <td>https://www.iglushop.es/atomic-redster-s7-f12-...</td>\n",
       "      <td>Muchos esquiadores fuertes quieren un esquí pa...</td>\n",
       "    </tr>\n",
       "  </tbody>\n",
       "</table>\n",
       "</div>"
      ],
      "text/plain": [
       "                   Producto    Marca Precio_Antiguo Precio_Nuevo  \\\n",
       "0       Dynafit Speedfit 84  Dynafit         609.95       397.00   \n",
       "1    Hagan Core 84 + Pieles    Hagan         500.00       349.00   \n",
       "2            Salomon MTN BC  Salomon         729.95       510.00   \n",
       "3        Salomon Stance 102  Salomon         699.95       319.95   \n",
       "4  Atomic Redster S7+F12 GW   Atomic         749.95       529.95   \n",
       "\n",
       "                                              Enlace  \\\n",
       "0        https://www.iglushop.es/dynafit-speedfit-84   \n",
       "1       https://www.iglushop.es/hagan-core-84-pieles   \n",
       "2             https://www.iglushop.es/salomon-mtn-bc   \n",
       "3         https://www.iglushop.es/salomon-stance-102   \n",
       "4  https://www.iglushop.es/atomic-redster-s7-f12-...   \n",
       "\n",
       "                                         Descripción  \n",
       "0  El DYNAFIT Speedfit 84 es un esquí sin complic...  \n",
       "1  Arranca toda la montaña con la serie CORE, con...  \n",
       "2  Llega a la cima más rápido, carga el descenso ...  \n",
       "3  Esquís de freestyle Salomon Stance 102.\\nCon u...  \n",
       "4  Muchos esquiadores fuertes quieren un esquí pa...  "
      ]
     },
     "execution_count": 40,
     "metadata": {},
     "output_type": "execute_result"
    }
   ],
   "source": [
    "data.head()"
   ]
  },
  {
   "cell_type": "markdown",
   "id": "ab5d2b01",
   "metadata": {},
   "source": [
    "Para dejar más limpia la descripción quito los\n",
    "\\n  y  \\xa0 "
   ]
  },
  {
   "cell_type": "code",
   "execution_count": 41,
   "id": "236775b2",
   "metadata": {},
   "outputs": [],
   "source": [
    "data['Descripción'] = data['Descripción'].replace({'\\n':''}, regex=True)\n",
    "data['Descripción'] = data['Descripción'].replace({'\\xa0':''}, regex=True)"
   ]
  },
  {
   "cell_type": "code",
   "execution_count": 42,
   "id": "227a5e32",
   "metadata": {},
   "outputs": [
    {
     "data": {
      "text/plain": [
       "'El DYNAFIT Speedfit 84 es un esquí sin complicaciones con características especialmente diseñadas para el esquí de travesía en pista. El modelo pesa 1.350 gramos de peso ligero (tamaño 176), lo que lo convierte en un compañero de fácil manejo para ascensos rápidos. Los flancos completos garantizan un buen agarre de los cantos en la pista, y el modelo permanece sin vibraciones y estable en condiciones de hielo. La construcción de balancines en la punta y la cola y la línea de cotas también se adaptan a cada tamaño de esquí, una característica única en el mercado del esquí de travesía. Esto mantiene la longitud efectiva del borde igualmente proporcional a cada tamaño, lo que le permite funcionar independientemente del tamaño. Para poder distribuir mejor la densidad del modelo, el esquí está equipado con una construcción DYNAFIT 3D. Esto reduce los materiales delante y detrás del área de unión para reducir el peso total del swing sin perder rendimiento cuesta abajo. La pala de carbono 3D mejora las propiedades de amortiguación en el descenso. El esquí se adapta a las condiciones de descenso y no solo es tolerante, sino que también ofrece un control suave en superficies duras. El núcleo de madera del SpeedFit 84 está compuesto por una mezcla de materiales de Paulownia, fresno y álamo. Una capa adicional de fibra de vidrio hace que el manejo y la flexión sean más suaves y, por lo tanto, optimiza sus características de manejo para las giras en pista.Peso aprox: 1270 g'"
      ]
     },
     "execution_count": 42,
     "metadata": {},
     "output_type": "execute_result"
    }
   ],
   "source": [
    "data.loc[0]['Descripción']"
   ]
  },
  {
   "cell_type": "markdown",
   "id": "2ebce018",
   "metadata": {},
   "source": [
    "Podemos ver el número de esquís que vende cada marca:"
   ]
  },
  {
   "cell_type": "code",
   "execution_count": 43,
   "id": "543eb02c",
   "metadata": {
    "scrolled": true
   },
   "outputs": [
    {
     "data": {
      "text/plain": [
       "<AxesSubplot:>"
      ]
     },
     "execution_count": 43,
     "metadata": {},
     "output_type": "execute_result"
    },
    {
     "data": {
      "image/png": "[encoded data removed]",
      "text/plain": [
       "<Figure size 432x288 with 1 Axes>"
      ]
     },
     "metadata": {
      "needs_background": "light"
     },
     "output_type": "display_data"
    }
   ],
   "source": [
    "data.Marca.value_counts().plot(kind='bar')"
   ]
  },
  {
   "cell_type": "markdown",
   "id": "3521c1fe",
   "metadata": {},
   "source": [
    "Y para usar los datos de precio, cambiamos el tipo de dato a float:"
   ]
  },
  {
   "cell_type": "code",
   "execution_count": 44,
   "id": "0178962f",
   "metadata": {
    "collapsed": true
   },
   "outputs": [
    {
     "data": {
      "text/plain": [
       "0     <class 'str'>\n",
       "1     <class 'str'>\n",
       "2     <class 'str'>\n",
       "3     <class 'str'>\n",
       "4     <class 'str'>\n",
       "          ...      \n",
       "79    <class 'str'>\n",
       "80    <class 'str'>\n",
       "81    <class 'str'>\n",
       "82    <class 'str'>\n",
       "83    <class 'str'>\n",
       "Name: Precio_Nuevo, Length: 84, dtype: object"
      ]
     },
     "execution_count": 44,
     "metadata": {},
     "output_type": "execute_result"
    }
   ],
   "source": [
    "#Del precio Nuevo:\n",
    "data['Precio_Nuevo'].apply(type)"
   ]
  },
  {
   "cell_type": "code",
   "execution_count": 45,
   "id": "85624129",
   "metadata": {},
   "outputs": [],
   "source": [
    "data['Precio_Nuevo'] = data['Precio_Nuevo'].astype(float)"
   ]
  },
  {
   "cell_type": "code",
   "execution_count": 46,
   "id": "7f5322f2",
   "metadata": {
    "collapsed": true
   },
   "outputs": [
    {
     "data": {
      "text/plain": [
       "0     <class 'float'>\n",
       "1     <class 'float'>\n",
       "2     <class 'float'>\n",
       "3     <class 'float'>\n",
       "4     <class 'float'>\n",
       "           ...       \n",
       "79    <class 'float'>\n",
       "80    <class 'float'>\n",
       "81    <class 'float'>\n",
       "82    <class 'float'>\n",
       "83    <class 'float'>\n",
       "Name: Precio_Nuevo, Length: 84, dtype: object"
      ]
     },
     "execution_count": 46,
     "metadata": {},
     "output_type": "execute_result"
    }
   ],
   "source": [
    "data['Precio_Nuevo'].apply(type)"
   ]
  },
  {
   "cell_type": "markdown",
   "id": "2c007e44",
   "metadata": {},
   "source": [
    "Para poder calcular otros datos con los precios nuevos:"
   ]
  },
  {
   "cell_type": "code",
   "execution_count": 47,
   "id": "2fe75bb0",
   "metadata": {},
   "outputs": [
    {
     "data": {
      "text/plain": [
       "470.91488095238094"
      ]
     },
     "execution_count": 47,
     "metadata": {},
     "output_type": "execute_result"
    }
   ],
   "source": [
    "data.Precio_Nuevo.mean()  #la media"
   ]
  },
  {
   "cell_type": "code",
   "execution_count": 48,
   "id": "b46bfc6d",
   "metadata": {},
   "outputs": [
    {
     "data": {
      "text/plain": [
       "799.0"
      ]
     },
     "execution_count": 48,
     "metadata": {},
     "output_type": "execute_result"
    }
   ],
   "source": [
    "data.Precio_Nuevo.max()"
   ]
  },
  {
   "cell_type": "code",
   "execution_count": 49,
   "id": "8cc6b2f6",
   "metadata": {},
   "outputs": [
    {
     "data": {
      "text/plain": [
       "152.0"
      ]
     },
     "execution_count": 49,
     "metadata": {},
     "output_type": "execute_result"
    }
   ],
   "source": [
    "data.Precio_Nuevo.min()"
   ]
  },
  {
   "cell_type": "code",
   "execution_count": 50,
   "id": "2849d635",
   "metadata": {
    "scrolled": false
   },
   "outputs": [
    {
     "data": {
      "text/plain": [
       "<AxesSubplot:>"
      ]
     },
     "execution_count": 50,
     "metadata": {},
     "output_type": "execute_result"
    },
    {
     "data": {
      "image/png": "[encoded data removed]",
      "text/plain": [
       "<Figure size 432x288 with 1 Axes>"
      ]
     },
     "metadata": {
      "needs_background": "light"
     },
     "output_type": "display_data"
    }
   ],
   "source": [
    "data.boxplot(\"Precio_Nuevo\")"
   ]
  }
 ],
 "metadata": {
  "kernelspec": {
   "display_name": "Python 3 (ipykernel)",
   "language": "python",
   "name": "python3"
  },
  "language_info": {
   "codemirror_mode": {
    "name": "ipython",
    "version": 3
   },
   "file_extension": ".py",
   "mimetype": "text/x-python",
   "name": "python",
   "nbconvert_exporter": "python",
   "pygments_lexer": "ipython3",
   "version": "3.9.12"
  }
 },
 "nbformat": 4,
 "nbformat_minor": 5
}

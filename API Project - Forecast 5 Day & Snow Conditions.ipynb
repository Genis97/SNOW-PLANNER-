{
 "cells": [
  {
   "cell_type": "markdown",
   "id": "ff5bc045",
   "metadata": {},
   "source": [
    "# SKI STATION - FORECAST & SNOWCONDITIONS"
   ]
  },
  {
   "cell_type": "markdown",
   "id": "7bc3757d",
   "metadata": {},
   "source": [
    "![image.png](https://es.snow-forecast.com/packs/components/page-header/static/sf-logo-c13ad2b9455e28f76ba2169e7c082a9f.png)"
   ]
  },
  {
   "cell_type": "code",
   "execution_count": 8,
   "id": "5f96aa15",
   "metadata": {},
   "outputs": [],
   "source": [
    "import pandas as pd\n",
    "import requests"
   ]
  },
  {
   "cell_type": "markdown",
   "id": "d7a0ff52",
   "metadata": {},
   "source": [
    "Primero te pide la estación donde quieres ir. Reconoce la gran mayoria de estaciones del mundo y no requiere una escritura 100% correcta de la estación. En mi ejemplo uso Baqueira Beret, una de las estaciones más conocidas del Pirineo Catalán. Las medidas són americanas."
   ]
  },
  {
   "cell_type": "code",
   "execution_count": 16,
   "id": "c451df30",
   "metadata": {
    "scrolled": true
   },
   "outputs": [
    {
     "name": "stdout",
     "output_type": "stream",
     "text": [
      "Que estacion?: Baqueira Beret\n"
     ]
    }
   ],
   "source": [
    "estacion = input(\"Que estacion?: \")"
   ]
  },
  {
   "cell_type": "markdown",
   "id": "6c7542f1",
   "metadata": {},
   "source": [
    "Llamamos a la API"
   ]
  },
  {
   "cell_type": "code",
   "execution_count": 23,
   "id": "7db70992",
   "metadata": {
    "collapsed": true
   },
   "outputs": [
    {
     "name": "stdout",
     "output_type": "stream",
     "text": [
      "{\"forecast5Day\":[{\"dayOfWeek\":\"saturday\",\"am\":{\"summary\":\"some clouds\",\"windSpeed\":\"10mph\",\"windDirection\":\"W\",\"snow\":\"0in\",\"rain\":\"0in\",\"maxTemp\":\"36°F\",\"minTemp\":\"34°F\",\"windChill\":\"25°F\",\"humidity\":\"20%\",\"freezeLevel\":\"10200ft\"},\"pm\":{\"summary\":\"some clouds\",\"windSpeed\":\"10mph\",\"windDirection\":\"WSW\",\"snow\":\"0in\",\"rain\":\"0in\",\"maxTemp\":\"36°F\",\"minTemp\":\"32°F\",\"windChill\":\"25°F\",\"humidity\":\"38%\",\"freezeLevel\":\"10200ft\"},\"night\":{\"summary\":\"some clouds\",\"windSpeed\":\"10mph\",\"windDirection\":\"WSW\",\"snow\":\"0in\",\"rain\":\"0in\",\"maxTemp\":\"34°F\",\"minTemp\":\"28°F\",\"windChill\":\"23°F\",\"humidity\":\"32%\",\"freezeLevel\":\"9800ft\"}},{\"dayOfWeek\":\"sunday\",\"am\":{\"summary\":\"light snow\",\"windSpeed\":\"5mph\",\"windDirection\":\"NNW\",\"snow\":\"0.8in\",\"rain\":\"0in\",\"maxTemp\":\"23°F\",\"minTemp\":\"21°F\",\"windChill\":\"14°F\",\"humidity\":\"88%\",\"freezeLevel\":\"5200ft\"},\"pm\":{\"summary\":\"light snow\",\"windSpeed\":\"5mph\",\"windDirection\":\"NNW\",\"snow\":\"1.2in\",\"rain\":\"0in\",\"maxTemp\":\"18°F\",\"minTemp\":\"16°F\",\"windChill\":\"5°F\",\"humidity\":\"95%\",\"freezeLevel\":\"4600ft\"},\"night\":{\"summary\":\"snow showers\",\"windSpeed\":\"5mph\",\"windDirection\":\"WSW\",\"snow\":\"0in\",\"rain\":\"0in\",\"maxTemp\":\"21°F\",\"minTemp\":\"16°F\",\"windChill\":\"5°F\",\"humidity\":\"40%\",\"freezeLevel\":\"2000ft\"}},{\"dayOfWeek\":\"monday\",\"am\":{\"summary\":\"light snow\",\"windSpeed\":\"25mph\",\"windDirection\":\"W\",\"snow\":\"1.6in\",\"rain\":\"0in\",\"maxTemp\":\"21°F\",\"minTemp\":\"19°F\",\"windChill\":\"5°F\",\"humidity\":\"90%\",\"freezeLevel\":\"3800ft\"},\"pm\":{\"summary\":\"mod. snow\",\"windSpeed\":\"10mph\",\"windDirection\":\"WNW\",\"snow\":\"2.4in\",\"rain\":\"0in\",\"maxTemp\":\"18°F\",\"minTemp\":\"18°F\",\"windChill\":\"3°F\",\"humidity\":\"91%\",\"freezeLevel\":\"4400ft\"},\"night\":{\"summary\":\"mod. snow\",\"windSpeed\":\"30mph\",\"windDirection\":\"WSW\",\"snow\":\"2.4in\",\"rain\":\"0in\",\"maxTemp\":\"25°F\",\"minTemp\":\"19°F\",\"windChill\":\"5°F\",\"humidity\":\"94%\",\"freezeLevel\":\"4900ft\"}},{\"dayOfWeek\":\"tuesday\",\"am\":{\"summary\":\"heavy snow\",\"windSpeed\":\"30mph\",\"windDirection\":\"WNW\",\"snow\":\"4.3in\",\"rain\":\"0in\",\"maxTemp\":\"16°F\",\"minTemp\":\"10°F\",\"windChill\":\"-9°F\",\"humidity\":\"92%\",\"freezeLevel\":\"4600ft\"},\"pm\":{\"summary\":\"mod. snow\",\"windSpeed\":\"15mph\",\"windDirection\":\"NW\",\"snow\":\"2.4in\",\"rain\":\"0in\",\"maxTemp\":\"9°F\",\"minTemp\":\"9°F\",\"windChill\":\"-9°F\",\"humidity\":\"92%\",\"freezeLevel\":\"2800ft\"},\"night\":{\"summary\":\"light snow\",\"windSpeed\":\"20mph\",\"windDirection\":\"WSW\",\"snow\":\"0.8in\",\"rain\":\"0in\",\"maxTemp\":\"12°F\",\"minTemp\":\"9°F\",\"windChill\":\"-8°F\",\"humidity\":\"77%\",\"freezeLevel\":\"800ft\"}},{\"dayOfWeek\":\"wednesday\",\"am\":{\"summary\":\"mod. snow\",\"windSpeed\":\"5mph\",\"windDirection\":\"WSW\",\"snow\":\"2.8in\",\"rain\":\"0in\",\"maxTemp\":\"10°F\",\"minTemp\":\"10°F\",\"windChill\":\"10°F\",\"humidity\":\"98%\",\"freezeLevel\":\"2800ft\"},\"pm\":{\"summary\":\"mod. snow\",\"windSpeed\":\"20mph\",\"windDirection\":\"NW\",\"snow\":\"2.8in\",\"rain\":\"0in\",\"maxTemp\":\"9°F\",\"minTemp\":\"3°F\",\"windChill\":\"-20°F\",\"humidity\":\"94%\",\"freezeLevel\":\"2800ft\"},\"night\":{\"summary\":\"light snow\",\"windSpeed\":\"15mph\",\"windDirection\":\"NNW\",\"snow\":\"0.8in\",\"rain\":\"0in\",\"maxTemp\":\"7°F\",\"minTemp\":\"3°F\",\"windChill\":\"-18°F\",\"humidity\":\"85%\",\"freezeLevel\":\"0ft\"}}],\"summary3Day\":\"The snow forecast for Baqueira/Beret is: A moderate fall of snow, heaviest on Mon morning. Freeze-thaw conditions (max 36°F on Sat morning, min 16°F on Sun afternoon). Winds increasing (light winds from the WSW on Sat night, strong winds from the W by Mon morning).\",\"summaryDays4To6\":\"A heavy fall of snow, heaviest during Tue morning. Temperatures will be below freezing (max 25°F on Mon night, min 3°F on Wed afternoon). Winds decreasing (near gales from the WSW on Mon night, calm by Wed morning).\",\"basicInfo\":{\"region\":\"Spain\",\"name\":\"Baqueira/Beret\",\"url\":\"https://www.snow-forecast.com/resorts/Baqueira-Beret/6day/top\",\"topLiftElevation\":\"8560ft\",\"midLiftElevation\":\"6805ft\",\"botLiftElevation\":\"5046ft\",\"lat\":\"42.70\",\"lon\":\"0.95\"}}\n"
     ]
    }
   ],
   "source": [
    "url = \"https://ski-resort-forecast.p.rapidapi.com/\"f\"{estacion}\"\"/forecast\"\n",
    "\n",
    "querystring = {\"units\":\"i\",\"el\":\"top\"}\n",
    "\n",
    "headers = {\n",
    "\t\"X-RapidAPI-Key\": \"07f8a34ba6mshab428faea15b703p19c0f7jsn88555a193a59\",\n",
    "\t\"X-RapidAPI-Host\": \"ski-resort-forecast.p.rapidapi.com\"\n",
    "}\n",
    "\n",
    "response_fore = requests.request(\"GET\", url, headers=headers, params=querystring)\n",
    "\n",
    "print(response.text)"
   ]
  },
  {
   "cell_type": "markdown",
   "id": "e25b4b50",
   "metadata": {},
   "source": [
    "Vemos los datos más importantes"
   ]
  },
  {
   "cell_type": "code",
   "execution_count": 24,
   "id": "2f57b85a",
   "metadata": {
    "scrolled": true
   },
   "outputs": [
    {
     "data": {
      "text/plain": [
       "{'Date': 'Fri, 13 Jan 2023 22:35:50 GMT', 'Content-Type': 'application/json; charset=utf-8', 'Content-Length': '3822', 'Connection': 'keep-alive', 'Etag': 'W/\"eee-Z9L5iHtFnVmnJRtUecjYWW5O79Q\"', 'Via': '1.1 vegur', 'Access-Control-Allow-Origin': '*', 'X-Powered-By': 'Express', 'Server': 'RapidAPI-1.2.8', 'X-RapidAPI-Version': '1.2.8', 'X-RapidAPI-Region': 'AWS - eu-central-1'}"
      ]
     },
     "execution_count": 24,
     "metadata": {},
     "output_type": "execute_result"
    }
   ],
   "source": [
    "response_fore.headers"
   ]
  },
  {
   "cell_type": "markdown",
   "id": "edb6d303",
   "metadata": {},
   "source": [
    "Lo pasamos todo a nuestro DF. Vemos que recoge datos como la velocidad/dirección del viento, temperatura (max/min), humedad... tanto durante el día como la noche."
   ]
  },
  {
   "cell_type": "code",
   "execution_count": 25,
   "id": "31910f0e",
   "metadata": {},
   "outputs": [
    {
     "data": {
      "text/html": [
       "<div>\n",
       "<style scoped>\n",
       "    .dataframe tbody tr th:only-of-type {\n",
       "        vertical-align: middle;\n",
       "    }\n",
       "\n",
       "    .dataframe tbody tr th {\n",
       "        vertical-align: top;\n",
       "    }\n",
       "\n",
       "    .dataframe thead th {\n",
       "        text-align: right;\n",
       "    }\n",
       "</style>\n",
       "<table border=\"1\" class=\"dataframe\">\n",
       "  <thead>\n",
       "    <tr style=\"text-align: right;\">\n",
       "      <th></th>\n",
       "      <th>dayOfWeek</th>\n",
       "      <th>am.summary</th>\n",
       "      <th>am.windSpeed</th>\n",
       "      <th>am.windDirection</th>\n",
       "      <th>am.snow</th>\n",
       "      <th>am.rain</th>\n",
       "      <th>am.maxTemp</th>\n",
       "      <th>am.minTemp</th>\n",
       "      <th>am.windChill</th>\n",
       "      <th>am.humidity</th>\n",
       "      <th>...</th>\n",
       "      <th>night.summary</th>\n",
       "      <th>night.windSpeed</th>\n",
       "      <th>night.windDirection</th>\n",
       "      <th>night.snow</th>\n",
       "      <th>night.rain</th>\n",
       "      <th>night.maxTemp</th>\n",
       "      <th>night.minTemp</th>\n",
       "      <th>night.windChill</th>\n",
       "      <th>night.humidity</th>\n",
       "      <th>night.freezeLevel</th>\n",
       "    </tr>\n",
       "  </thead>\n",
       "  <tbody>\n",
       "    <tr>\n",
       "      <th>0</th>\n",
       "      <td>saturday</td>\n",
       "      <td>some clouds</td>\n",
       "      <td>10mph</td>\n",
       "      <td>W</td>\n",
       "      <td>0in</td>\n",
       "      <td>0in</td>\n",
       "      <td>36°F</td>\n",
       "      <td>34°F</td>\n",
       "      <td>25°F</td>\n",
       "      <td>20%</td>\n",
       "      <td>...</td>\n",
       "      <td>some clouds</td>\n",
       "      <td>10mph</td>\n",
       "      <td>WSW</td>\n",
       "      <td>0in</td>\n",
       "      <td>0in</td>\n",
       "      <td>34°F</td>\n",
       "      <td>28°F</td>\n",
       "      <td>23°F</td>\n",
       "      <td>32%</td>\n",
       "      <td>9800ft</td>\n",
       "    </tr>\n",
       "    <tr>\n",
       "      <th>1</th>\n",
       "      <td>sunday</td>\n",
       "      <td>light snow</td>\n",
       "      <td>5mph</td>\n",
       "      <td>NNW</td>\n",
       "      <td>0.8in</td>\n",
       "      <td>0in</td>\n",
       "      <td>23°F</td>\n",
       "      <td>21°F</td>\n",
       "      <td>14°F</td>\n",
       "      <td>88%</td>\n",
       "      <td>...</td>\n",
       "      <td>snow showers</td>\n",
       "      <td>5mph</td>\n",
       "      <td>WSW</td>\n",
       "      <td>0in</td>\n",
       "      <td>0in</td>\n",
       "      <td>21°F</td>\n",
       "      <td>16°F</td>\n",
       "      <td>5°F</td>\n",
       "      <td>40%</td>\n",
       "      <td>2000ft</td>\n",
       "    </tr>\n",
       "    <tr>\n",
       "      <th>2</th>\n",
       "      <td>monday</td>\n",
       "      <td>light snow</td>\n",
       "      <td>25mph</td>\n",
       "      <td>W</td>\n",
       "      <td>1.6in</td>\n",
       "      <td>0in</td>\n",
       "      <td>21°F</td>\n",
       "      <td>19°F</td>\n",
       "      <td>5°F</td>\n",
       "      <td>90%</td>\n",
       "      <td>...</td>\n",
       "      <td>mod. snow</td>\n",
       "      <td>30mph</td>\n",
       "      <td>WSW</td>\n",
       "      <td>2.4in</td>\n",
       "      <td>0in</td>\n",
       "      <td>25°F</td>\n",
       "      <td>19°F</td>\n",
       "      <td>5°F</td>\n",
       "      <td>94%</td>\n",
       "      <td>4900ft</td>\n",
       "    </tr>\n",
       "    <tr>\n",
       "      <th>3</th>\n",
       "      <td>tuesday</td>\n",
       "      <td>heavy snow</td>\n",
       "      <td>30mph</td>\n",
       "      <td>WNW</td>\n",
       "      <td>4.3in</td>\n",
       "      <td>0in</td>\n",
       "      <td>16°F</td>\n",
       "      <td>10°F</td>\n",
       "      <td>-9°F</td>\n",
       "      <td>92%</td>\n",
       "      <td>...</td>\n",
       "      <td>light snow</td>\n",
       "      <td>20mph</td>\n",
       "      <td>WSW</td>\n",
       "      <td>0.8in</td>\n",
       "      <td>0in</td>\n",
       "      <td>12°F</td>\n",
       "      <td>9°F</td>\n",
       "      <td>-8°F</td>\n",
       "      <td>77%</td>\n",
       "      <td>800ft</td>\n",
       "    </tr>\n",
       "    <tr>\n",
       "      <th>4</th>\n",
       "      <td>wednesday</td>\n",
       "      <td>mod. snow</td>\n",
       "      <td>5mph</td>\n",
       "      <td>WSW</td>\n",
       "      <td>2.8in</td>\n",
       "      <td>0in</td>\n",
       "      <td>10°F</td>\n",
       "      <td>10°F</td>\n",
       "      <td>10°F</td>\n",
       "      <td>98%</td>\n",
       "      <td>...</td>\n",
       "      <td>light snow</td>\n",
       "      <td>15mph</td>\n",
       "      <td>NNW</td>\n",
       "      <td>0.8in</td>\n",
       "      <td>0in</td>\n",
       "      <td>7°F</td>\n",
       "      <td>3°F</td>\n",
       "      <td>-18°F</td>\n",
       "      <td>85%</td>\n",
       "      <td>0ft</td>\n",
       "    </tr>\n",
       "  </tbody>\n",
       "</table>\n",
       "<p>5 rows × 31 columns</p>\n",
       "</div>"
      ],
      "text/plain": [
       "   dayOfWeek   am.summary am.windSpeed am.windDirection am.snow am.rain  \\\n",
       "0   saturday  some clouds        10mph                W     0in     0in   \n",
       "1     sunday   light snow         5mph              NNW   0.8in     0in   \n",
       "2     monday   light snow        25mph                W   1.6in     0in   \n",
       "3    tuesday   heavy snow        30mph              WNW   4.3in     0in   \n",
       "4  wednesday    mod. snow         5mph              WSW   2.8in     0in   \n",
       "\n",
       "  am.maxTemp am.minTemp am.windChill am.humidity  ... night.summary  \\\n",
       "0       36°F       34°F         25°F         20%  ...   some clouds   \n",
       "1       23°F       21°F         14°F         88%  ...  snow showers   \n",
       "2       21°F       19°F          5°F         90%  ...     mod. snow   \n",
       "3       16°F       10°F         -9°F         92%  ...    light snow   \n",
       "4       10°F       10°F         10°F         98%  ...    light snow   \n",
       "\n",
       "  night.windSpeed night.windDirection night.snow night.rain night.maxTemp  \\\n",
       "0           10mph                 WSW        0in        0in          34°F   \n",
       "1            5mph                 WSW        0in        0in          21°F   \n",
       "2           30mph                 WSW      2.4in        0in          25°F   \n",
       "3           20mph                 WSW      0.8in        0in          12°F   \n",
       "4           15mph                 NNW      0.8in        0in           7°F   \n",
       "\n",
       "  night.minTemp night.windChill night.humidity night.freezeLevel  \n",
       "0          28°F            23°F            32%            9800ft  \n",
       "1          16°F             5°F            40%            2000ft  \n",
       "2          19°F             5°F            94%            4900ft  \n",
       "3           9°F            -8°F            77%             800ft  \n",
       "4           3°F           -18°F            85%               0ft  \n",
       "\n",
       "[5 rows x 31 columns]"
      ]
     },
     "execution_count": 25,
     "metadata": {},
     "output_type": "execute_result"
    }
   ],
   "source": [
    "response_forecast = response_fore.json()\n",
    "data = pd.json_normalize(response_forecast[\"forecast5Day\"])\n",
    "data"
   ]
  },
  {
   "cell_type": "markdown",
   "id": "1a37dee2",
   "metadata": {},
   "source": [
    "Y también para ver las condiciones de nieve:"
   ]
  },
  {
   "cell_type": "code",
   "execution_count": 29,
   "id": "284820fb",
   "metadata": {
    "collapsed": true
   },
   "outputs": [
    {
     "name": "stdout",
     "output_type": "stream",
     "text": [
      "{\"topSnowDepth\":\"16in\",\"botSnowDepth\":\"8in\",\"freshSnowfall\":null,\"lastSnowfallDate\":\"—\",\"basicInfo\":{\"region\":\"Spain\",\"name\":\"Baqueira/Beret\",\"url\":\"https://www.snow-forecast.com/resorts/Baqueira-Beret/6day/top\",\"topLiftElevation\":\"8560ft\",\"midLiftElevation\":\"6805ft\",\"botLiftElevation\":\"5046ft\",\"lat\":\"0.95\",\"lon\":\"42.70\"}}\n"
     ]
    }
   ],
   "source": [
    "url = \"https://ski-resort-forecast.p.rapidapi.com/\"f\"{estacion}\"\"/snowConditions\"\n",
    "\n",
    "querystring = {\"units\":\"i\"}\n",
    "\n",
    "headers = {\n",
    "\t\"X-RapidAPI-Key\": \"07f8a34ba6mshab428faea15b703p19c0f7jsn88555a193a59\",\n",
    "\t\"X-RapidAPI-Host\": \"ski-resort-forecast.p.rapidapi.com\"\n",
    "}\n",
    "\n",
    "response_snow = requests.request(\"GET\", url, headers=headers, params=querystring)\n",
    "\n",
    "print(response.text)"
   ]
  },
  {
   "cell_type": "code",
   "execution_count": 30,
   "id": "631893d1",
   "metadata": {
    "collapsed": true
   },
   "outputs": [
    {
     "data": {
      "text/plain": [
       "{'Date': 'Fri, 13 Jan 2023 22:37:30 GMT', 'Content-Type': 'application/json; charset=utf-8', 'Content-Length': '326', 'Connection': 'keep-alive', 'Etag': 'W/\"146-Mn09esjhlpConzukpCw7wqk+dm4\"', 'Via': '1.1 vegur', 'Access-Control-Allow-Origin': '*', 'X-Powered-By': 'Express', 'Server': 'RapidAPI-1.2.8', 'X-RapidAPI-Version': '1.2.8', 'X-RapidAPI-Region': 'AWS - eu-central-1'}"
      ]
     },
     "execution_count": 30,
     "metadata": {},
     "output_type": "execute_result"
    }
   ],
   "source": [
    "response_snow.headers"
   ]
  },
  {
   "cell_type": "markdown",
   "id": "90cf2128",
   "metadata": {},
   "source": [
    "Nos muestra la max i min profundidad de nieve junto con datos interesantes de la estación en concreto."
   ]
  },
  {
   "cell_type": "code",
   "execution_count": 31,
   "id": "e889b2c1",
   "metadata": {},
   "outputs": [
    {
     "data": {
      "text/html": [
       "<div>\n",
       "<style scoped>\n",
       "    .dataframe tbody tr th:only-of-type {\n",
       "        vertical-align: middle;\n",
       "    }\n",
       "\n",
       "    .dataframe tbody tr th {\n",
       "        vertical-align: top;\n",
       "    }\n",
       "\n",
       "    .dataframe thead th {\n",
       "        text-align: right;\n",
       "    }\n",
       "</style>\n",
       "<table border=\"1\" class=\"dataframe\">\n",
       "  <thead>\n",
       "    <tr style=\"text-align: right;\">\n",
       "      <th></th>\n",
       "      <th>topSnowDepth</th>\n",
       "      <th>botSnowDepth</th>\n",
       "      <th>freshSnowfall</th>\n",
       "      <th>lastSnowfallDate</th>\n",
       "      <th>basicInfo.region</th>\n",
       "      <th>basicInfo.name</th>\n",
       "      <th>basicInfo.url</th>\n",
       "      <th>basicInfo.topLiftElevation</th>\n",
       "      <th>basicInfo.midLiftElevation</th>\n",
       "      <th>basicInfo.botLiftElevation</th>\n",
       "      <th>basicInfo.lat</th>\n",
       "      <th>basicInfo.lon</th>\n",
       "    </tr>\n",
       "  </thead>\n",
       "  <tbody>\n",
       "    <tr>\n",
       "      <th>0</th>\n",
       "      <td>16in</td>\n",
       "      <td>8in</td>\n",
       "      <td>None</td>\n",
       "      <td>—</td>\n",
       "      <td>Spain</td>\n",
       "      <td>Baqueira/Beret</td>\n",
       "      <td>https://www.snow-forecast.com/resorts/Baqueira...</td>\n",
       "      <td>8560ft</td>\n",
       "      <td>6805ft</td>\n",
       "      <td>5046ft</td>\n",
       "      <td>0.95</td>\n",
       "      <td>42.70</td>\n",
       "    </tr>\n",
       "  </tbody>\n",
       "</table>\n",
       "</div>"
      ],
      "text/plain": [
       "  topSnowDepth botSnowDepth freshSnowfall lastSnowfallDate basicInfo.region  \\\n",
       "0         16in          8in          None                —            Spain   \n",
       "\n",
       "   basicInfo.name                                      basicInfo.url  \\\n",
       "0  Baqueira/Beret  https://www.snow-forecast.com/resorts/Baqueira...   \n",
       "\n",
       "  basicInfo.topLiftElevation basicInfo.midLiftElevation  \\\n",
       "0                     8560ft                     6805ft   \n",
       "\n",
       "  basicInfo.botLiftElevation basicInfo.lat basicInfo.lon  \n",
       "0                     5046ft          0.95         42.70  "
      ]
     },
     "execution_count": 31,
     "metadata": {},
     "output_type": "execute_result"
    }
   ],
   "source": [
    "response_snowcast = response_snow.json()\n",
    "data_2 = pd.json_normalize(response_snowcast)\n",
    "data_2"
   ]
  }
 ],
 "metadata": {
  "kernelspec": {
   "display_name": "Python 3 (ipykernel)",
   "language": "python",
   "name": "python3"
  },
  "language_info": {
   "codemirror_mode": {
    "name": "ipython",
    "version": 3
   },
   "file_extension": ".py",
   "mimetype": "text/x-python",
   "name": "python",
   "nbconvert_exporter": "python",
   "pygments_lexer": "ipython3",
   "version": "3.9.12"
  }
 },
 "nbformat": 4,
 "nbformat_minor": 5
}

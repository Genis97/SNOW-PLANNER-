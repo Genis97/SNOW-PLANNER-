{
 "cells": [
  {
   "cell_type": "code",
   "execution_count": 6,
   "id": "b758aad1",
   "metadata": {},
   "outputs": [],
   "source": [
    "import requests\n",
    "import pandas as pd"
   ]
  },
  {
   "cell_type": "code",
   "execution_count": 7,
   "id": "6922587b",
   "metadata": {},
   "outputs": [
    {
     "name": "stdout",
     "output_type": "stream",
     "text": [
      "{\"topSnowDepth\":\"16in\",\"botSnowDepth\":\"8in\",\"freshSnowfall\":null,\"lastSnowfallDate\":\"—\",\"basicInfo\":{\"region\":\"Spain\",\"name\":\"Baqueira/Beret\",\"url\":\"https://www.snow-forecast.com/resorts/Baqueira-Beret/6day/top\",\"topLiftElevation\":\"8560ft\",\"midLiftElevation\":\"6805ft\",\"botLiftElevation\":\"5046ft\",\"lat\":\"0.95\",\"lon\":\"42.70\"}}\n"
     ]
    }
   ],
   "source": [
    "url = \"https://ski-resort-forecast.p.rapidapi.com/Baqueira%20Beret/snowConditions\"\n",
    "\n",
    "querystring = {\"units\":\"i\"}\n",
    "\n",
    "headers = {\n",
    "\t\"X-RapidAPI-Key\": \"07f8a34ba6mshab428faea15b703p19c0f7jsn88555a193a59\",\n",
    "\t\"X-RapidAPI-Host\": \"ski-resort-forecast.p.rapidapi.com\"\n",
    "}\n",
    "\n",
    "response = requests.request(\"GET\", url, headers=headers, params=querystring)\n",
    "\n",
    "print(response.text)"
   ]
  },
  {
   "cell_type": "code",
   "execution_count": 8,
   "id": "2141d53d",
   "metadata": {},
   "outputs": [
    {
     "data": {
      "text/plain": [
       "{'Date': 'Fri, 13 Jan 2023 20:47:04 GMT', 'Content-Type': 'application/json; charset=utf-8', 'Content-Length': '326', 'Connection': 'keep-alive', 'Etag': 'W/\"146-Mn09esjhlpConzukpCw7wqk+dm4\"', 'Via': '1.1 vegur', 'Access-Control-Allow-Origin': '*', 'X-Powered-By': 'Express', 'Server': 'RapidAPI-1.2.8', 'X-RapidAPI-Version': '1.2.8', 'X-RapidAPI-Region': 'AWS - eu-central-1'}"
      ]
     },
     "execution_count": 8,
     "metadata": {},
     "output_type": "execute_result"
    }
   ],
   "source": [
    "response.headers"
   ]
  },
  {
   "cell_type": "code",
   "execution_count": 10,
   "id": "f278f1aa",
   "metadata": {},
   "outputs": [
    {
     "data": {
      "text/html": [
       "<div>\n",
       "<style scoped>\n",
       "    .dataframe tbody tr th:only-of-type {\n",
       "        vertical-align: middle;\n",
       "    }\n",
       "\n",
       "    .dataframe tbody tr th {\n",
       "        vertical-align: top;\n",
       "    }\n",
       "\n",
       "    .dataframe thead th {\n",
       "        text-align: right;\n",
       "    }\n",
       "</style>\n",
       "<table border=\"1\" class=\"dataframe\">\n",
       "  <thead>\n",
       "    <tr style=\"text-align: right;\">\n",
       "      <th></th>\n",
       "      <th>topSnowDepth</th>\n",
       "      <th>botSnowDepth</th>\n",
       "      <th>freshSnowfall</th>\n",
       "      <th>lastSnowfallDate</th>\n",
       "      <th>basicInfo.region</th>\n",
       "      <th>basicInfo.name</th>\n",
       "      <th>basicInfo.url</th>\n",
       "      <th>basicInfo.topLiftElevation</th>\n",
       "      <th>basicInfo.midLiftElevation</th>\n",
       "      <th>basicInfo.botLiftElevation</th>\n",
       "      <th>basicInfo.lat</th>\n",
       "      <th>basicInfo.lon</th>\n",
       "    </tr>\n",
       "  </thead>\n",
       "  <tbody>\n",
       "    <tr>\n",
       "      <th>0</th>\n",
       "      <td>16in</td>\n",
       "      <td>8in</td>\n",
       "      <td>None</td>\n",
       "      <td>—</td>\n",
       "      <td>Spain</td>\n",
       "      <td>Baqueira/Beret</td>\n",
       "      <td>https://www.snow-forecast.com/resorts/Baqueira...</td>\n",
       "      <td>8560ft</td>\n",
       "      <td>6805ft</td>\n",
       "      <td>5046ft</td>\n",
       "      <td>0.95</td>\n",
       "      <td>42.70</td>\n",
       "    </tr>\n",
       "  </tbody>\n",
       "</table>\n",
       "</div>"
      ],
      "text/plain": [
       "  topSnowDepth botSnowDepth freshSnowfall lastSnowfallDate basicInfo.region  \\\n",
       "0         16in          8in          None                —            Spain   \n",
       "\n",
       "   basicInfo.name                                      basicInfo.url  \\\n",
       "0  Baqueira/Beret  https://www.snow-forecast.com/resorts/Baqueira...   \n",
       "\n",
       "  basicInfo.topLiftElevation basicInfo.midLiftElevation  \\\n",
       "0                     8560ft                     6805ft   \n",
       "\n",
       "  basicInfo.botLiftElevation basicInfo.lat basicInfo.lon  \n",
       "0                     5046ft          0.95         42.70  "
      ]
     },
     "execution_count": 10,
     "metadata": {},
     "output_type": "execute_result"
    }
   ],
   "source": [
    "response1 = response.json()\n",
    "data = pd.json_normalize(response1)\n",
    "data"
   ]
  }
 ],
 "metadata": {
  "kernelspec": {
   "display_name": "Python 3 (ipykernel)",
   "language": "python",
   "name": "python3"
  },
  "language_info": {
   "codemirror_mode": {
    "name": "ipython",
    "version": 3
   },
   "file_extension": ".py",
   "mimetype": "text/x-python",
   "name": "python",
   "nbconvert_exporter": "python",
   "pygments_lexer": "ipython3",
   "version": "3.9.12"
  }
 },
 "nbformat": 4,
 "nbformat_minor": 5
}
